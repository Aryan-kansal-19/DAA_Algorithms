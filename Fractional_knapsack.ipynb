{
 "cells": [
  {
   "cell_type": "code",
   "execution_count": null,
   "metadata": {},
   "outputs": [
    {
     "ename": "",
     "evalue": "",
     "output_type": "error",
     "traceback": [
      "\u001b[1;31mUnable to start Kernel 'Python 3.9.7 64-bit' due to connection timeout. \n",
      "View Jupyter <a href='command:jupyter.viewOutput'>log</a> for further details."
     ]
    }
   ],
   "source": [
    "class ItemValue:\n",
    "      \n",
    "    \"\"\"Item Value DataClass\"\"\"\n",
    "  \n",
    "    def __init__(self, wt, val, ind):\n",
    "        self.wt = wt\n",
    "        self.val = val\n",
    "        self.ind = ind\n",
    "        self.cost = val // wt\n",
    "  \n",
    "    def __lt__(self, other):\n",
    "        return self.cost < other.cost"
   ]
  },
  {
   "cell_type": "code",
   "execution_count": null,
   "metadata": {},
   "outputs": [],
   "source": [
    "# Greedy Approach\n",
    "  \n",
    "  \n",
    "class FractionalKnapSack:\n",
    "    def getMaxValue(wt, val, capacity):\n",
    "        \"\"\"function to get maximum value \"\"\"\n",
    "        Val = []\n",
    "        for i in range(len(wt)):\n",
    "            Val.append(ItemValue(wt[i], val[i], i))\n",
    "  \n",
    "        # sorting items by value\n",
    "        Val.sort(reverse=True)\n",
    "  \n",
    "        totalValue = 0\n",
    "        for i in Val:\n",
    "            curWt = int(i.wt)\n",
    "            curVal = int(i.val)\n",
    "            if capacity - curWt >= 0:\n",
    "                capacity -= curWt\n",
    "                totalValue += curVal\n",
    "            else:\n",
    "                fraction = capacity / curWt\n",
    "                totalValue += curVal * fraction\n",
    "                capacity = int(capacity - (curWt * fraction))\n",
    "                break\n",
    "        return totalValue"
   ]
  },
  {
   "cell_type": "code",
   "execution_count": null,
   "metadata": {},
   "outputs": [],
   "source": [
    "# Driver Code\n",
    "if __name__ == \"__main__\":\n",
    "    wt = [10, 40, 20, 30]\n",
    "    val = [60, 40, 100, 120]\n",
    "    capacity = 50\n",
    "  \n",
    "    # Function call\n",
    "    maxValue = FractionalKnapSack.getMaxValue(wt, val, capacity)\n",
    "    print(\"Maximum value in Knapsack =\", maxValue)"
   ]
  }
 ],
 "metadata": {
  "interpreter": {
   "hash": "bca7c2d3fe6349e52d1576f7ab066391be890b5e278ecfda5482677f5ebf6b3d"
  },
  "kernelspec": {
   "display_name": "Python 3.9.7 64-bit",
   "language": "python",
   "name": "python3"
  },
  "language_info": {
   "name": "python",
   "version": "3.9.7"
  },
  "orig_nbformat": 4
 },
 "nbformat": 4,
 "nbformat_minor": 2
}
