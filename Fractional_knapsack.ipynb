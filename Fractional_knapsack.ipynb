import java.util.*;
public class Fractional_knapsack {
    
    
}
