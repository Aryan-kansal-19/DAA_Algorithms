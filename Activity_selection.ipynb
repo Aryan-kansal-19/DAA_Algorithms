{
 "cells": [
  {
   "cell_type": "code",
   "execution_count": null,
   "metadata": {},
   "outputs": [],
   "source": [
    "def printMaxActivities(s , f ):\n",
    "    n = len(f)\n",
    "    print (\"The following activities are selected\")\n",
    " \n",
    "    # The first activity is always selected\n",
    "    i = 0\n",
    "    print (i)\n",
    " \n",
    "    # Consider rest of the activities\n",
    "    for j in range(n):\n",
    " \n",
    "        # If this activity has start time greater than\n",
    "        # or equal to the finish time of previously\n",
    "        # selected activity, then select it\n",
    "        if s[j] >= f[i]:\n",
    "            print (j)\n",
    "            i = j\n",
    " \n",
    "# Driver program to test above function\n",
    "s = [1 , 3 , 0 , 5 , 8 , 5]\n",
    "f = [2 , 4 , 6 , 7 , 9 , 9]\n",
    "printMaxActivities(s , f)"
   ]
  }
 ],
 "metadata": {
  "interpreter": {
   "hash": "bca7c2d3fe6349e52d1576f7ab066391be890b5e278ecfda5482677f5ebf6b3d"
  },
  "kernelspec": {
   "display_name": "Python 3.9.7 64-bit",
   "language": "python",
   "name": "python3"
  },
  "language_info": {
   "name": "python",
   "version": "3.9.7"
  },
  "orig_nbformat": 4
 },
 "nbformat": 4,
 "nbformat_minor": 2
}
